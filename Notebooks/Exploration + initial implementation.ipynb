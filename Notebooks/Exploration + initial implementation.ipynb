{
 "cells": [
  {
   "cell_type": "code",
   "execution_count": null,
   "metadata": {},
   "outputs": [],
   "source": [
    "import pandas as pd\n",
    "import matplotlib.pyplot as plt\n",
    "import statsmodels.api as sm"
   ]
  },
  {
   "cell_type": "code",
   "execution_count": null,
   "metadata": {},
   "outputs": [],
   "source": [
    "data = pd.read_csv('../Data/CVD_cleaned.csv')"
   ]
  },
  {
   "cell_type": "code",
   "execution_count": null,
   "metadata": {},
   "outputs": [],
   "source": [
    "display(data.head())"
   ]
  },
  {
   "cell_type": "code",
   "execution_count": null,
   "metadata": {},
   "outputs": [],
   "source": [
    "# TODO\n",
    "# visualise interesting / important variables (or combinations thereof)"
   ]
  },
  {
   "cell_type": "code",
   "execution_count": null,
   "metadata": {},
   "outputs": [],
   "source": [
    "# reformatting the data to be suitable for logistic regression\n",
    "# transforming categorical variables (Yes=1, No=0)\n",
    "# transforming 'Sex' variable to binary 'Sex_Male' variable\n",
    "data = data.replace({'Skin_Cancer':'Yes', 'Other_Cancer': 'Yes', 'Heart_Disease': 'Yes', 'Depression': 'Yes', 'Smoking_History': 'Yes', 'Exercise': 'Yes'\n",
    "                     , 'Sex': 'Male', 'Arthritis': 'Yes'}, 1).replace({'Skin_Cancer':'No', 'Other_Cancer': 'No', 'Heart_Disease': 'No'\n",
    "                                                   , 'Depression': 'No', 'Smoking_History': 'No', 'Exercise': 'No'\n",
    "                                                   , 'Sex': 'Female', 'Arthritis': 'No'}, 0).rename(columns={'Sex':'Sex_Male'})"
   ]
  },
  {
   "cell_type": "code",
   "execution_count": null,
   "metadata": {},
   "outputs": [],
   "source": [
    "data.head()"
   ]
  },
  {
   "cell_type": "code",
   "execution_count": null,
   "metadata": {},
   "outputs": [],
   "source": [
    "print(data['Age_Category'].unique())"
   ]
  },
  {
   "cell_type": "code",
   "execution_count": null,
   "metadata": {},
   "outputs": [],
   "source": [
    "print(data['Diabetes'].unique())"
   ]
  },
  {
   "cell_type": "code",
   "execution_count": null,
   "metadata": {},
   "outputs": [],
   "source": [
    "# TODO\n",
    "# normalise numerical variables [0, 1]\n"
   ]
  },
  {
   "cell_type": "code",
   "execution_count": null,
   "metadata": {},
   "outputs": [],
   "source": [
    "# TODO\n",
    "# reformat multi-categorical variables:\n",
    "# - Age (now needs to be normalised)\n",
    "# - Diabetes (check if dropping all other options than 'Yes' and 'No' can be justified) \n",
    "# - General Health\n",
    "# - Checkup\n",
    "# either drop the consumption categories or find out what the values mean\n",
    "\n",
    "# set age to numerical by taking the mean of the existing categories (ASSUMPTION: 80+ is estimated to 85)\n",
    "age_mapping = {'18-24': 21.0, '25-29': 27.0, '30-34': 32.0, '35-39': 37.0,'40-44': 42.0, '45-49': 47.0, '50-54': 52.0, \n",
    "               '55-59': 57.0,'60-64': 62.0, '65-69': 67.0, '70-74': 72.0, '75-79': 77.0, '80+': 85.0}\n",
    "\n",
    "# apply the mapping\n",
    "data['Age_Category'] = data['Age_Category'].map(age_mapping)\n",
    "data = data.rename(columns={'Age_Category':'Age_Numeric'})\n",
    "\n",
    "# normalise the age\n",
    "min_age = min(data['Age_Numeric'])\n",
    "max_age = max(data['Age_Numeric'])\n",
    "\n",
    "normalised_age = [(i - min_age) / (max_age - min_age) for i in data['Age_Numeric']]\n",
    "\n",
    "data['Age_Numeric'] = normalised_age\n",
    "data = data.rename(columns={'Age_Numeric':'Age_Normalised'})\n",
    "\n",
    "# diabetes transformation\n",
    "# group diabetics and pre-diabetics together, group non-diabetics and gestational diabetics together\n",
    "diabetes_binary = [1 if i == 'Yes' or i == 'No, pre-diabetes or borderline diabetes' else 0 for i in data['Diabetes']]\n"
   ]
  },
  {
   "cell_type": "code",
   "execution_count": null,
   "metadata": {},
   "outputs": [],
   "source": [
    "# TODO\n",
    "# calculate/plot correlation coefficients"
   ]
  },
  {
   "cell_type": "code",
   "execution_count": null,
   "metadata": {},
   "outputs": [],
   "source": [
    "Y = data['Heart_Disease']\n",
    "X = data[['BMI', 'Weight_(kg)', 'Height_(cm)', 'Exercise', 'Depression', 'Smoking_History', 'Sex_Male', 'Skin_Cancer', 'Other_Cancer']]"
   ]
  },
  {
   "cell_type": "code",
   "execution_count": null,
   "metadata": {},
   "outputs": [],
   "source": [
    "model = sm.Logit(Y, X).fit()"
   ]
  },
  {
   "cell_type": "code",
   "execution_count": null,
   "metadata": {},
   "outputs": [],
   "source": [
    "model.summary()"
   ]
  },
  {
   "cell_type": "code",
   "execution_count": null,
   "metadata": {},
   "outputs": [],
   "source": []
  }
 ],
 "metadata": {
  "kernelspec": {
   "display_name": "Python 3",
   "language": "python",
   "name": "python3"
  },
  "language_info": {
   "codemirror_mode": {
    "name": "ipython",
    "version": 3
   },
   "file_extension": ".py",
   "mimetype": "text/x-python",
   "name": "python",
   "nbconvert_exporter": "python",
   "pygments_lexer": "ipython3",
   "version": "3.9.6"
  }
 },
 "nbformat": 4,
 "nbformat_minor": 2
}
