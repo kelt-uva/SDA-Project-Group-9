{
 "cells": [
  {
   "cell_type": "code",
   "execution_count": null,
   "metadata": {},
   "outputs": [],
   "source": [
    "import pandas as pd\n",
    "import matplotlib.pyplot as plt\n",
    "import statsmodels.api as sm\n",
    "import numpy as np"
   ]
  },
  {
   "cell_type": "code",
   "execution_count": null,
   "metadata": {},
   "outputs": [],
   "source": [
    "data = pd.read_csv('../Data/CVD_cleaned.csv')"
   ]
  },
  {
   "cell_type": "code",
   "execution_count": null,
   "metadata": {},
   "outputs": [],
   "source": [
    "display(data.head())"
   ]
  },
  {
   "cell_type": "markdown",
   "metadata": {},
   "source": [
    "## Visualise the entire data, with one singular plot per column in the dataset:"
   ]
  },
  {
   "cell_type": "code",
   "execution_count": null,
   "metadata": {},
   "outputs": [],
   "source": [
    "def plot_data_columns(data: pd.DataFrame) -> None:\n",
    "    \"\"\"Plot the columns of a dataframe, where every\n",
    "    column is plotted as a single histogram or bar plot.\n",
    "    A column with only 0 or 1 as its values is plotted\n",
    "    as a bar plot and will get ticks 'Yes' or 'No'.\n",
    "\n",
    "    Args:\n",
    "        data (pd.DataFrame): any pandas dataframe.\n",
    "    \"\"\"\n",
    "    plots_per_row = 3\n",
    "    num_cols = len(data.columns)\n",
    "    num_rows = np.ceil(num_cols / plots_per_row).astype(int)\n",
    "\n",
    "    # Figsize is hand picked\n",
    "    fig = plt.figure(figsize=(15, 8 * num_rows))\n",
    "\n",
    "    for i, col in enumerate(data.columns):\n",
    "        ax = fig.add_subplot(num_rows, plots_per_row, i + 1)\n",
    "\n",
    "        # If everything is numbers, we make a histogram\n",
    "        if all([isinstance(x, (int, float)) for x in data[col]]):\n",
    "            ax.hist(data[col], bins=30, edgecolor='k', color='c')\n",
    "            m = np.mean(data[col])\n",
    "            s = np.std(data[col])\n",
    "            ax.axvline(m, color='red', linestyle='--', label=fr'Mean $\\mu$')\n",
    "            ax.axvline(m + s, color='green', linestyle='--', label=fr'Mean $\\mu \\mp $ std $\\sigma$')\n",
    "            ax.axvline(m - s, color='green', linestyle='--')\n",
    "            ax.legend()\n",
    "            \n",
    "        else:\n",
    "        # Otherwise it must be a bar plot\n",
    "            ax.bar(data[col].unique(), data[col].value_counts(), edgecolor='k', color='c')\n",
    "            # Check if only 0 and 1, then we must change the ticks\n",
    "            if all([x in [0, 1] for x in data[col]]):\n",
    "                ax.set_xticks([0, 1])\n",
    "                ax.set_xticklabels(['No', 'Yes'])\n",
    "        \n",
    "        ax.tick_params(axis='x', rotation=90)\n",
    "        ax.set_title(col)\n",
    "\n",
    "    plt.tight_layout()\n",
    "    plt.show()\n",
    "\n",
    "plot_data_columns(data)"
   ]
  },
  {
   "cell_type": "markdown",
   "metadata": {},
   "source": [
    "## Now visualise the data for only females:"
   ]
  },
  {
   "cell_type": "code",
   "execution_count": null,
   "metadata": {},
   "outputs": [],
   "source": [
    "plot_data_columns(data.loc[data[\"Sex\"] == \"Female\"])"
   ]
  },
  {
   "cell_type": "markdown",
   "metadata": {},
   "source": [
    "## Now visualise the data for only males:"
   ]
  },
  {
   "cell_type": "code",
   "execution_count": null,
   "metadata": {},
   "outputs": [],
   "source": [
    "plot_data_columns(data.loc[data[\"Sex\"] == \"Male\"])"
   ]
  },
  {
   "cell_type": "markdown",
   "metadata": {},
   "source": [
    "## The correlation matrix for our dataset:"
   ]
  },
  {
   "cell_type": "code",
   "execution_count": null,
   "metadata": {},
   "outputs": [],
   "source": [
    "# For the correlation we can only take columns with numbers\n",
    "data_num = data.select_dtypes(include=[int, float])\n",
    "corr = data_num.corr()\n",
    "\n",
    "plt.imshow(corr, cmap='viridis')\n",
    "plt.colorbar()\n",
    "plt.xticks(np.arange(len(corr.columns)), corr.columns, rotation=90)\n",
    "plt.yticks(np.arange(len(corr.columns)), corr.columns)\n",
    "plt.title('Correlation matrix for the dataset')\n",
    "plt.show()"
   ]
  },
  {
   "cell_type": "code",
   "execution_count": null,
   "metadata": {},
   "outputs": [],
   "source": [
    "# reformatting the data to be suitable for logistic regression\n",
    "# transforming categorical variables (Yes=1, No=0)\n",
    "# transforming 'Sex' variable to binary 'Sex_Male' variable\n",
    "data = data.replace({'Skin_Cancer':'Yes', 'Other_Cancer': 'Yes', 'Heart_Disease': 'Yes', 'Depression': 'Yes', 'Smoking_History': 'Yes', 'Exercise': 'Yes'\n",
    "                     , 'Sex': 'Male', 'Arthritis': 'Yes'}, 1).replace({'Skin_Cancer':'No', 'Other_Cancer': 'No', 'Heart_Disease': 'No'\n",
    "                                                   , 'Depression': 'No', 'Smoking_History': 'No', 'Exercise': 'No'\n",
    "                                                   , 'Sex': 'Female', 'Arthritis': 'No'}, 0).rename(columns={'Sex':'Sex_Male'})"
   ]
  },
  {
   "cell_type": "code",
   "execution_count": null,
   "metadata": {},
   "outputs": [],
   "source": [
    "data.head()"
   ]
  },
  {
   "cell_type": "code",
   "execution_count": null,
   "metadata": {},
   "outputs": [],
   "source": [
    "print(data['Age_Category'].unique())"
   ]
  },
  {
   "cell_type": "code",
   "execution_count": null,
   "metadata": {},
   "outputs": [],
   "source": [
    "print(data['Diabetes'].unique())"
   ]
  },
  {
   "cell_type": "code",
   "execution_count": null,
   "metadata": {},
   "outputs": [],
   "source": [
    "# normalize numerical values\n",
    "def normalize_data(data):\n",
    "    \"\"\"\n",
    "    This function takes a column of data and normalizes it.\n",
    "    \"\"\"\n",
    "    min_value = min(data)\n",
    "    max_value = max(data)\n",
    "    normalized_data = []\n",
    "\n",
    "    for value in data:\n",
    "        new_value = (value - min_value) / (max_value - min_value)\n",
    "        normalized_data.append(new_value)\n",
    "\n",
    "    return normalized_data\n",
    "\n",
    "#normalize height\n",
    "height_data = data['Height_(cm)']\n",
    "normalized_height = normalize_data(height_data)\n",
    "\n",
    "# normalize weight\n",
    "weight_data = data['Weight_(kg)']\n",
    "normalized_weight = normalize_data(weight_data)\n",
    "\n",
    "# normalize bmi\n",
    "bmi_data = data['BMI']\n",
    "normalized_bmi = normalize_data(bmi_data)\n",
    "\n",
    "# replace data for normalized data\n",
    "data['Height_(cm)'] = normalized_height\n",
    "data['Weight_(kg)'] = normalized_weight\n",
    "data['BMI'] = normalized_bmi\n",
    "\n",
    "data.head(10)\n"
   ]
  },
  {
   "cell_type": "code",
   "execution_count": null,
   "metadata": {},
   "outputs": [],
   "source": [
    "# TODO\n",
    "# reformat multi-categorical variables:\n",
    "# - Age (now needs to be normalised)\n",
    "# - Diabetes (check if dropping all other options than 'Yes' and 'No' can be justified) \n",
    "# - General Health\n",
    "# - Checkup\n",
    "# either drop the consumption categories or find out what the values mean\n",
    "\n",
    "# set age to numerical by taking the mean of the existing categories (ASSUMPTION: 80+ is estimated to 85)\n",
    "age_mapping = {'18-24': 21.0, '25-29': 27.0, '30-34': 32.0, '35-39': 37.0,'40-44': 42.0, '45-49': 47.0, '50-54': 52.0, \n",
    "               '55-59': 57.0,'60-64': 62.0, '65-69': 67.0, '70-74': 72.0, '75-79': 77.0, '80+': 85.0}\n",
    "\n",
    "# apply the mapping\n",
    "data['Age_Category'] = data['Age_Category'].map(age_mapping)\n",
    "data = data.rename(columns={'Age_Category':'Age_Numeric'})\n",
    "\n",
    "# normalise the age\n",
    "min_age = min(data['Age_Numeric'])\n",
    "max_age = max(data['Age_Numeric'])\n",
    "\n",
    "normalised_age = [(i - min_age) / (max_age - min_age) for i in data['Age_Numeric']]\n",
    "\n",
    "data['Age_Numeric'] = normalised_age\n",
    "data = data.rename(columns={'Age_Numeric':'Age_Normalised'})\n",
    "\n",
    "# diabetes transformation\n",
    "# group diabetics and pre-diabetics together, group non-diabetics and gestational diabetics together\n",
    "diabetes_binary = [1 if i == 'Yes' or i == 'No, pre-diabetes or borderline diabetes' else 0 for i in data['Diabetes']]\n"
   ]
  },
  {
   "cell_type": "code",
   "execution_count": null,
   "metadata": {},
   "outputs": [],
   "source": [
    "# TODO\n",
    "# calculate/plot correlation coefficients"
   ]
  },
  {
   "cell_type": "code",
   "execution_count": null,
   "metadata": {},
   "outputs": [],
   "source": [
    "Y = data['Heart_Disease']\n",
    "X = data[['BMI', 'Weight_(kg)', 'Height_(cm)', 'Exercise', 'Depression', 'Smoking_History', 'Sex_Male', 'Skin_Cancer', 'Other_Cancer']]"
   ]
  },
  {
   "cell_type": "code",
   "execution_count": null,
   "metadata": {},
   "outputs": [],
   "source": [
    "model = sm.Logit(Y, X).fit()"
   ]
  },
  {
   "cell_type": "code",
   "execution_count": null,
   "metadata": {},
   "outputs": [],
   "source": [
    "model.summary()"
   ]
  },
  {
   "cell_type": "code",
   "execution_count": null,
   "metadata": {},
   "outputs": [],
   "source": []
  }
 ],
 "metadata": {
  "kernelspec": {
   "display_name": "Python 3",
   "language": "python",
   "name": "python3"
  },
  "language_info": {
   "codemirror_mode": {
    "name": "ipython",
    "version": 3
   },
   "file_extension": ".py",
   "mimetype": "text/x-python",
   "name": "python",
   "nbconvert_exporter": "python",
   "pygments_lexer": "ipython3",
   "version": "3.12.7"
  }
 },
 "nbformat": 4,
 "nbformat_minor": 2
}
