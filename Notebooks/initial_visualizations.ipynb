{
 "cells": [
  {
   "cell_type": "markdown",
   "metadata": {},
   "source": [
    "# Initial visualizations of the dataset\n"
   ]
  },
  {
   "cell_type": "code",
   "execution_count": 11,
   "metadata": {},
   "outputs": [],
   "source": [
    "import pandas as pd\n",
    "import matplotlib.pyplot as plt\n",
    "import numpy as np\n",
    "import os"
   ]
  },
  {
   "cell_type": "markdown",
   "metadata": {},
   "source": [
    "Create folder where the graphs will be saved:\n"
   ]
  },
  {
   "cell_type": "code",
   "execution_count": 12,
   "metadata": {},
   "outputs": [],
   "source": [
    "path = \"../Graphs/dataset/full\"\n",
    "\n",
    "try:\n",
    "    if not os.path.exists(path):\n",
    "        os.makedirs(path)\n",
    "except OSError:\n",
    "    print(\"Making path {path} failed\")"
   ]
  },
  {
   "cell_type": "markdown",
   "metadata": {},
   "source": [
    "Read in the data:\n"
   ]
  },
  {
   "cell_type": "code",
   "execution_count": 13,
   "metadata": {},
   "outputs": [],
   "source": [
    "df = pd.read_csv(\"../Data/CVD_cleaned.csv\")"
   ]
  },
  {
   "cell_type": "markdown",
   "metadata": {},
   "source": [
    "Show the data and their types:\n"
   ]
  },
  {
   "cell_type": "code",
   "execution_count": null,
   "metadata": {},
   "outputs": [],
   "source": [
    "df.head(10)"
   ]
  },
  {
   "cell_type": "markdown",
   "metadata": {},
   "source": [
    "For every numerical column we create a histogram of the data:\n"
   ]
  },
  {
   "cell_type": "code",
   "execution_count": null,
   "metadata": {},
   "outputs": [],
   "source": [
    "numerical_columns = [\n",
    "    \"Height_(cm)\",\n",
    "    \"Weight_(kg)\",\n",
    "    \"BMI\",\n",
    "    \"Alcohol_Consumption\",\n",
    "    \"Fruit_Consumption\",\n",
    "    \"Green_Vegetables_Consumption\",\n",
    "    \"FriedPotato_Consumption\",\n",
    "]\n",
    "\n",
    "for numerical_column in numerical_columns:\n",
    "    label = \" \".join(numerical_column.split(\"_\"))\n",
    "    plt.hist(df[numerical_column], bins=50)\n",
    "    plt.title(f\"Histogram of {label}\")\n",
    "    plt.xlabel(label)\n",
    "    plt.ylabel(\"Frequency\")\n",
    "    plt.axvline(\n",
    "        np.mean(df[numerical_column]),\n",
    "        color=\"orange\",\n",
    "        linestyle=\"--\",\n",
    "        label=rf\"Mean $\\mu=${np.mean(df[numerical_column]):.2f}\",\n",
    "    )\n",
    "    plt.axvline(\n",
    "        np.std(df[numerical_column]) + np.mean(df[numerical_column]),\n",
    "        color=\"red\",\n",
    "        linestyle=\"--\",\n",
    "        label=rf\"Standard deviation $\\sigma=${np.std(df[numerical_column]):.2f} +- $\\mu$\",\n",
    "    )\n",
    "    plt.axvline(\n",
    "        np.mean(df[numerical_column]) - np.std(df[numerical_column]),\n",
    "        color=\"red\",\n",
    "        linestyle=\"--\",\n",
    "    )\n",
    "    plt.legend()\n",
    "    plt.savefig(f\"{path}{numerical_column}_histogram.png\", dpi=300)\n",
    "\n",
    "    plt.show()"
   ]
  },
  {
   "cell_type": "code",
   "execution_count": null,
   "metadata": {},
   "outputs": [],
   "source": [
    "categorial_columns = [\n",
    "    \"General_Health\",\n",
    "    \"Checkup\",\n",
    "    \"Exercise\",\n",
    "    \"Heart_Disease\",\n",
    "    \"Skin_Cancer\",\n",
    "    \"Other_Cancer\",\n",
    "    \"Depression\",\n",
    "    \"Diabetes\",\n",
    "    \"Arthritis\",\n",
    "    \"Sex\",\n",
    "    \"Age_Category\",\n",
    "    \"Smoking_History\",\n",
    "]\n",
    "\n",
    "for categorial_column in categorial_columns:\n",
    "    label = \" \".join(categorial_column.split(\"_\"))\n",
    "    # The one-liner to plot the bar plot was found:\n",
    "    # https://stackoverflow.com/questions/31029560/plotting-categorical-data-with-pandas-and-matplotlib\n",
    "    df[categorial_column].value_counts().plot(kind=\"bar\")\n",
    "    plt.title(f\"Bar plot of {label}\")\n",
    "    plt.xlabel(label)\n",
    "    plt.ylabel(\"Frequency\")\n",
    "    plt.tight_layout()  # Use tight layout to prevent labels being cut off in the saved image\n",
    "    plt.savefig(f\"{path}{categorial_column}_bar_plot.png\")\n",
    "    plt.show()"
   ]
  },
  {
   "cell_type": "markdown",
   "metadata": {},
   "source": [
    "Some observations about all the variables:\n",
    "\n",
    "**General_Health**: Most people answered this question with 'Very Good' or 'Good', while only a few answered 'Poor'. We note that this is subjective and thus might not be a good indicator of heart disease.\n",
    "\n",
    "**Checkup**: Most people had a checkup in the last year. Note that a recent checkup can cause heart disease to be found earlier, but that still does not say anything about the actual health of that person.\n",
    "\n",
    "**Exercise**: The majority reported to engage in exersice. According to our literature, not engaging in exercise might be a indicator for heart disease.\n",
    "\n",
    "**Heart_Disease**: This shows us that only a small percentage of the people in the dataset actually have heart disease.\n",
    "\n",
    "**Skin_Cancer**: A small minority reported having skin cancer. As far as literature tells us, skin cancer does not have a correlation to heart disease.\n",
    "\n",
    "**Other_Cancer**: Just like skin cancer, other cancer does not have a correlation to heart disease.\n",
    "\n",
    "**Depression**: According to literature, depression may have a relation with heart disease. In the dataset a small amount of people reported having depression.\n",
    "\n",
    "**Diabetes**: Diabetes is known to cause a higher probability to get heart disease. In the dataset a small amount of people reported having diabetes.\n",
    "\n",
    "**Arthritis**: About one third of the people from the survey has arthritis.\n",
    "\n",
    "**Sex**: The dataset is pretty much divided in half.\n",
    "\n",
    "**Age_Category**: Most people filling in the survey are between 45 and 69. The age could be a good indicator for heart disease (according to literature).\n",
    "\n",
    "**Height\\_(cm)**: The distribution of height has two peaks, most likely for male and female. The average length of the people in the dataset is 1.70m.\n",
    "\n",
    "**Weight\\_(kg)**: The average weight is 83.59kg.\n",
    "\n",
    "**BMI**: The average BMI is 28.8. This is considered unhealthy.\n",
    "\n",
    "**Smoking_History**: Most people do not have a history of smoking, but there are a lot of people who do.\n",
    "\n",
    "**Alcohol_Consumption, Fruit_Consumption, Green_Vegetables_Consumption, FriedPotato_Consumption**: The x-axis does not tell us much about the amount of food eaten, so we\n",
    "are not able to make any statements about these graphs.\n"
   ]
  }
 ],
 "metadata": {
  "kernelspec": {
   "display_name": "Python 3",
   "language": "python",
   "name": "python3"
  },
  "language_info": {
   "codemirror_mode": {
    "name": "ipython",
    "version": 3
   },
   "file_extension": ".py",
   "mimetype": "text/x-python",
   "name": "python",
   "nbconvert_exporter": "python",
   "pygments_lexer": "ipython3",
   "version": "3.12.7"
  }
 },
 "nbformat": 4,
 "nbformat_minor": 2
}
